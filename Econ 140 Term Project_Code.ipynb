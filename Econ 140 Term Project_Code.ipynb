{
 "cells": [
  {
   "cell_type": "code",
   "execution_count": 3,
   "metadata": {},
   "outputs": [],
   "source": [
    "library(tidyverse)\n",
    "library(dplyr)\n",
    "library(ggplot2)\n",
    "library(lubridate)\n",
    "library(lmtest)\n",
    "library(stargazer)\n",
    "library(plm)\n",
    "library(cowplot)"
   ]
  },
  {
   "cell_type": "code",
   "execution_count": 4,
   "metadata": {},
   "outputs": [],
   "source": [
    "avocado = read.csv('avocado.csv')"
   ]
  },
  {
   "cell_type": "code",
   "execution_count": 5,
   "metadata": {},
   "outputs": [
    {
     "data": {
      "text/html": [
       "<table>\n",
       "<thead><tr><th></th><th scope=col>date</th><th scope=col>average_price</th><th scope=col>total_volume</th><th scope=col>X4046</th><th scope=col>X4225</th><th scope=col>X4770</th><th scope=col>total_bags</th><th scope=col>small_bags</th><th scope=col>large_bags</th><th scope=col>xlarge_bags</th><th scope=col>type</th><th scope=col>year</th><th scope=col>geography</th></tr></thead>\n",
       "<tbody>\n",
       "\t<tr><th scope=row>30016</th><td>2020-05-17         </td><td>1.16               </td><td>51690121           </td><td>15951219.7         </td><td>9221698.7          </td><td>728025.52          </td><td>25788840.1         </td><td>16896405.6         </td><td>7972084.5          </td><td>920350.00          </td><td>conventional       </td><td>2020               </td><td>Total U.S.         </td></tr>\n",
       "\t<tr><th scope=row>30017</th><td>2020-05-17         </td><td>1.58               </td><td> 2271254           </td><td>  150100.0         </td><td> 198457.0          </td><td>  5429.00          </td><td> 1917250.0         </td><td> 1121691.0         </td><td> 795559.0          </td><td>     0.00          </td><td>organic            </td><td>2020               </td><td>Total U.S.         </td></tr>\n",
       "\t<tr><th scope=row>30018</th><td>2020-05-17         </td><td>1.09               </td><td> 8667913           </td><td> 2081824.0         </td><td>1020965.1          </td><td> 33410.85          </td><td> 5531562.9         </td><td> 2580802.5         </td><td>2817078.8          </td><td>133681.62          </td><td>conventional       </td><td>2020               </td><td>West               </td></tr>\n",
       "\t<tr><th scope=row>30019</th><td>2020-05-17         </td><td>1.71               </td><td>  384158           </td><td>   23455.0         </td><td>  39738.0          </td><td>  1034.00          </td><td>  319932.0         </td><td>  130051.0         </td><td> 189881.0          </td><td>     0.00          </td><td>organic            </td><td>2020               </td><td>West               </td></tr>\n",
       "\t<tr><th scope=row>30020</th><td>2020-05-17         </td><td>0.89               </td><td> 1240709           </td><td>  430203.1         </td><td> 126497.3          </td><td> 21104.42          </td><td>  662904.2         </td><td>  395909.3         </td><td> 265177.1          </td><td>  1817.81          </td><td>conventional       </td><td>2020               </td><td>West Tex/New Mexico</td></tr>\n",
       "\t<tr><th scope=row>30021</th><td>2020-05-17         </td><td>1.58               </td><td>   36881           </td><td>    1147.0         </td><td>   1243.0          </td><td>  2645.00          </td><td>   31846.0         </td><td>   25621.0         </td><td>   6225.0          </td><td>     0.00          </td><td>organic            </td><td>2020               </td><td>West Tex/New Mexico</td></tr>\n",
       "</tbody>\n",
       "</table>\n"
      ],
      "text/latex": [
       "\\begin{tabular}{r|lllllllllllll}\n",
       "  & date & average\\_price & total\\_volume & X4046 & X4225 & X4770 & total\\_bags & small\\_bags & large\\_bags & xlarge\\_bags & type & year & geography\\\\\n",
       "\\hline\n",
       "\t30016 & 2020-05-17          & 1.16                & 51690121            & 15951219.7          & 9221698.7           & 728025.52           & 25788840.1          & 16896405.6          & 7972084.5           & 920350.00           & conventional        & 2020                & Total U.S.         \\\\\n",
       "\t30017 & 2020-05-17          & 1.58                &  2271254            &   150100.0          &  198457.0           &   5429.00           &  1917250.0          &  1121691.0          &  795559.0           &      0.00           & organic             & 2020                & Total U.S.         \\\\\n",
       "\t30018 & 2020-05-17          & 1.09                &  8667913            &  2081824.0          & 1020965.1           &  33410.85           &  5531562.9          &  2580802.5          & 2817078.8           & 133681.62           & conventional        & 2020                & West               \\\\\n",
       "\t30019 & 2020-05-17          & 1.71                &   384158            &    23455.0          &   39738.0           &   1034.00           &   319932.0          &   130051.0          &  189881.0           &      0.00           & organic             & 2020                & West               \\\\\n",
       "\t30020 & 2020-05-17          & 0.89                &  1240709            &   430203.1          &  126497.3           &  21104.42           &   662904.2          &   395909.3          &  265177.1           &   1817.81           & conventional        & 2020                & West Tex/New Mexico\\\\\n",
       "\t30021 & 2020-05-17          & 1.58                &    36881            &     1147.0          &    1243.0           &   2645.00           &    31846.0          &    25621.0          &    6225.0           &      0.00           & organic             & 2020                & West Tex/New Mexico\\\\\n",
       "\\end{tabular}\n"
      ],
      "text/markdown": [
       "\n",
       "| <!--/--> | date | average_price | total_volume | X4046 | X4225 | X4770 | total_bags | small_bags | large_bags | xlarge_bags | type | year | geography |\n",
       "|---|---|---|---|---|---|---|---|---|---|---|---|---|---|\n",
       "| 30016 | 2020-05-17          | 1.16                | 51690121            | 15951219.7          | 9221698.7           | 728025.52           | 25788840.1          | 16896405.6          | 7972084.5           | 920350.00           | conventional        | 2020                | Total U.S.          |\n",
       "| 30017 | 2020-05-17          | 1.58                |  2271254            |   150100.0          |  198457.0           |   5429.00           |  1917250.0          |  1121691.0          |  795559.0           |      0.00           | organic             | 2020                | Total U.S.          |\n",
       "| 30018 | 2020-05-17          | 1.09                |  8667913            |  2081824.0          | 1020965.1           |  33410.85           |  5531562.9          |  2580802.5          | 2817078.8           | 133681.62           | conventional        | 2020                | West                |\n",
       "| 30019 | 2020-05-17          | 1.71                |   384158            |    23455.0          |   39738.0           |   1034.00           |   319932.0          |   130051.0          |  189881.0           |      0.00           | organic             | 2020                | West                |\n",
       "| 30020 | 2020-05-17          | 0.89                |  1240709            |   430203.1          |  126497.3           |  21104.42           |   662904.2          |   395909.3          |  265177.1           |   1817.81           | conventional        | 2020                | West Tex/New Mexico |\n",
       "| 30021 | 2020-05-17          | 1.58                |    36881            |     1147.0          |    1243.0           |   2645.00           |    31846.0          |    25621.0          |    6225.0           |      0.00           | organic             | 2020                | West Tex/New Mexico |\n",
       "\n"
      ],
      "text/plain": [
       "      date       average_price total_volume X4046      X4225     X4770    \n",
       "30016 2020-05-17 1.16          51690121     15951219.7 9221698.7 728025.52\n",
       "30017 2020-05-17 1.58           2271254       150100.0  198457.0   5429.00\n",
       "30018 2020-05-17 1.09           8667913      2081824.0 1020965.1  33410.85\n",
       "30019 2020-05-17 1.71            384158        23455.0   39738.0   1034.00\n",
       "30020 2020-05-17 0.89           1240709       430203.1  126497.3  21104.42\n",
       "30021 2020-05-17 1.58             36881         1147.0    1243.0   2645.00\n",
       "      total_bags small_bags large_bags xlarge_bags type         year\n",
       "30016 25788840.1 16896405.6 7972084.5  920350.00   conventional 2020\n",
       "30017  1917250.0  1121691.0  795559.0       0.00   organic      2020\n",
       "30018  5531562.9  2580802.5 2817078.8  133681.62   conventional 2020\n",
       "30019   319932.0   130051.0  189881.0       0.00   organic      2020\n",
       "30020   662904.2   395909.3  265177.1    1817.81   conventional 2020\n",
       "30021    31846.0    25621.0    6225.0       0.00   organic      2020\n",
       "      geography          \n",
       "30016 Total U.S.         \n",
       "30017 Total U.S.         \n",
       "30018 West               \n",
       "30019 West               \n",
       "30020 West Tex/New Mexico\n",
       "30021 West Tex/New Mexico"
      ]
     },
     "metadata": {},
     "output_type": "display_data"
    }
   ],
   "source": [
    "tail(avocado)"
   ]
  },
  {
   "cell_type": "markdown",
   "metadata": {},
   "source": [
    "## EDA"
   ]
  },
  {
   "cell_type": "code",
   "execution_count": 6,
   "metadata": {},
   "outputs": [],
   "source": [
    "avocado$year = as.factor(avocado$year)\n",
    "avocado$date = as.Date(avocado$date)\n",
    "avocado$month  = factor(months(avocado$date), levels = month.name)"
   ]
  },
  {
   "cell_type": "markdown",
   "metadata": {},
   "source": [
    "### 1. Avocado Price by Type"
   ]
  },
  {
   "cell_type": "code",
   "execution_count": 16,
   "metadata": {},
   "outputs": [
    {
     "data": {
      "text/html": [
       "<strong>pdf:</strong> 2"
      ],
      "text/latex": [
       "\\textbf{pdf:} 2"
      ],
      "text/markdown": [
       "**pdf:** 2"
      ],
      "text/plain": [
       "pdf \n",
       "  2 "
      ]
     },
     "metadata": {},
     "output_type": "display_data"
    }
   ],
   "source": [
    "jpeg(file=\"price_by_type.jpeg\", width=600, height=350)\n",
    "\n",
    "options(repr.plot.width=6, repr.plot.height=3)\n",
    "\n",
    "ggplot(avocado, aes(x=average_price, group=type, color=type)) + geom_density()+ theme_minimal() + \n",
    "theme(plot.title=element_text(hjust=0.5), legend.position=\"bottom\") + labs(title=\"Avocado Price by Type\")\n",
    "dev.off()\n"
   ]
  },
  {
   "cell_type": "code",
   "execution_count": 8,
   "metadata": {},
   "outputs": [],
   "source": [
    "seasonal_avo = avocado\n",
    "seasonal_avo$month_year <- format(as.Date(avocado$date), \"%Y-%m\")\n",
    "seasonal_avo$month <- format(as.Date(avocado$date), \"%m\")\n",
    "seasonal_avo$year <- format(as.Date(avocado$date), \"%Y\")"
   ]
  },
  {
   "cell_type": "markdown",
   "metadata": {},
   "source": [
    "### 2. Avocado Price by Month"
   ]
  },
  {
   "cell_type": "code",
   "execution_count": 15,
   "metadata": {},
   "outputs": [
    {
     "data": {
      "text/html": [
       "<strong>pdf:</strong> 2"
      ],
      "text/latex": [
       "\\textbf{pdf:} 2"
      ],
      "text/markdown": [
       "**pdf:** 2"
      ],
      "text/plain": [
       "pdf \n",
       "  2 "
      ]
     },
     "metadata": {},
     "output_type": "display_data"
    }
   ],
   "source": [
    "jpeg(file=\"price_by_month.jpeg\", width=600, height=350)\n",
    "\n",
    "options(repr.plot.width=6, repr.plot.height=5)\n",
    "\n",
    "conv_patterns <- seasonal_avo %>% select(month, average_price, type) %>% filter(type == \"conventional\") %>%\n",
    "group_by(month) %>% summarize(avg=mean(average_price)) %>%\n",
    "ggplot(aes(x=month, y=avg)) + geom_line(group=1, color=\"#7FB3D5\") + \n",
    "labs(title=\"Conventional Avocados\", x=\"Month\", y=\"Average Price\")\n",
    "\n",
    "org_patterns <- seasonal_avo %>% select(month, average_price, type) %>% filter(type == \"organic\") %>%\n",
    "group_by(month) %>% summarize(avg=mean(average_price)) %>%\n",
    "ggplot(aes(x=month, y=avg)) + geom_line(group=1, color=\"#7FB3D5\") + \n",
    "labs(title=\"Organic Avocados\", x=\"Month\", y=\"Average Price\")\n",
    "\n",
    "plot_grid(conv_patterns, org_patterns, nrow=2)\n",
    "\n",
    "dev.off()"
   ]
  },
  {
   "cell_type": "markdown",
   "metadata": {},
   "source": [
    "### 3. Avocado Price by Year"
   ]
  },
  {
   "cell_type": "code",
   "execution_count": 17,
   "metadata": {},
   "outputs": [
    {
     "data": {
      "text/html": [
       "<strong>pdf:</strong> 2"
      ],
      "text/latex": [
       "\\textbf{pdf:} 2"
      ],
      "text/markdown": [
       "**pdf:** 2"
      ],
      "text/plain": [
       "pdf \n",
       "  2 "
      ]
     },
     "metadata": {},
     "output_type": "display_data"
    }
   ],
   "source": [
    "jpeg(file=\"price_by_year.jpeg\", width=600, height=350)\n",
    "\n",
    "options(repr.plot.width=6, repr.plot.height=5)\n",
    "\n",
    "conv_patterns <- seasonal_avo %>% select(year, average_price, type) %>% filter(type == \"conventional\") %>%\n",
    "group_by(year) %>% summarize(avg=mean(average_price)) %>%\n",
    "ggplot(aes(x=year, y=avg)) + geom_line(group=1, color=\"#7FB3D5\") + \n",
    "labs(title=\"Conventional Avocados\", x=\"year\", y=\"Average Price\")\n",
    "\n",
    "org_patterns <- seasonal_avo %>% select(year, average_price, type) %>% filter(type == \"organic\") %>%\n",
    "group_by(year) %>% summarize(avg=mean(average_price)) %>%\n",
    "ggplot(aes(x=year, y=avg)) + geom_line(group=1, color=\"#7FB3D5\") + \n",
    "labs(title=\"Organic Avocados\", x=\"year\", y=\"Average Price\")\n",
    "\n",
    "plot_grid(conv_patterns, org_patterns, nrow=2)\n",
    "\n",
    "dev.off()"
   ]
  },
  {
   "cell_type": "markdown",
   "metadata": {},
   "source": [
    "### 4. Quantities by Month"
   ]
  },
  {
   "cell_type": "code",
   "execution_count": 18,
   "metadata": {},
   "outputs": [
    {
     "data": {
      "text/html": [
       "<strong>pdf:</strong> 2"
      ],
      "text/latex": [
       "\\textbf{pdf:} 2"
      ],
      "text/markdown": [
       "**pdf:** 2"
      ],
      "text/plain": [
       "pdf \n",
       "  2 "
      ]
     },
     "metadata": {},
     "output_type": "display_data"
    }
   ],
   "source": [
    "jpeg(file=\"quantities_by_month.jpeg\", width=600, height=350)\n",
    "\n",
    "options(repr.plot.width=6, repr.plot.height=5)\n",
    "\n",
    "conv_patterns_vol <- seasonal_avo %>% select(month, total_volume, type) %>% filter(type == \"conventional\") %>%\n",
    "group_by(month) %>% summarize(avg=mean(total_volume)) %>%\n",
    "ggplot(aes(x=month, y=avg)) + geom_line(group=1, color=\"#7FB3D5\") + \n",
    "labs(title=\"Conventional Avocados\", x=\"Month\", y=\"Average Volume\")\n",
    "\n",
    "org_patterns_vol <- seasonal_avo %>% select(month, total_volume, type) %>% filter(type == \"organic\") %>%\n",
    "group_by(month) %>% summarize(avg=mean(total_volume)) %>%\n",
    "ggplot(aes(x=month, y=avg)) + geom_line(group=1, color=\"#7FB3D5\") + \n",
    "labs(title=\"Organic Avocados\", x=\"Month\", y=\"Average Volume\")\n",
    "\n",
    "plot_grid(conv_patterns_vol, org_patterns_vol, nrow=2)\n",
    "dev.off()"
   ]
  },
  {
   "cell_type": "markdown",
   "metadata": {},
   "source": [
    "## Modeling"
   ]
  },
  {
   "cell_type": "code",
   "execution_count": 20,
   "metadata": {},
   "outputs": [
    {
     "data": {
      "text/html": [
       "<table>\n",
       "<thead><tr><th scope=col>date</th><th scope=col>average_price</th><th scope=col>total_volume</th><th scope=col>type</th><th scope=col>year</th><th scope=col>geography</th><th scope=col>month_year</th><th scope=col>month</th></tr></thead>\n",
       "<tbody>\n",
       "\t<tr><td>2015-01-04          </td><td>1.22                </td><td> 40873.28           </td><td>conventional        </td><td>2015                </td><td>Albany              </td><td>2015-01             </td><td>01                  </td></tr>\n",
       "\t<tr><td>2015-01-04          </td><td>1.79                </td><td>  1373.95           </td><td>organic             </td><td>2015                </td><td>Albany              </td><td>2015-01             </td><td>01                  </td></tr>\n",
       "\t<tr><td>2015-01-04          </td><td>1.00                </td><td>435021.49           </td><td>conventional        </td><td>2015                </td><td>Atlanta             </td><td>2015-01             </td><td>01                  </td></tr>\n",
       "\t<tr><td>2015-01-04          </td><td>1.76                </td><td>  3846.69           </td><td>organic             </td><td>2015                </td><td>Atlanta             </td><td>2015-01             </td><td>01                  </td></tr>\n",
       "\t<tr><td>2015-01-04          </td><td>1.08                </td><td>788025.06           </td><td>conventional        </td><td>2015                </td><td>Baltimore/Washington</td><td>2015-01             </td><td>01                  </td></tr>\n",
       "\t<tr><td>2015-01-04          </td><td>1.29                </td><td> 19137.28           </td><td>organic             </td><td>2015                </td><td>Baltimore/Washington</td><td>2015-01             </td><td>01                  </td></tr>\n",
       "</tbody>\n",
       "</table>\n"
      ],
      "text/latex": [
       "\\begin{tabular}{r|llllllll}\n",
       " date & average\\_price & total\\_volume & type & year & geography & month\\_year & month\\\\\n",
       "\\hline\n",
       "\t 2015-01-04           & 1.22                 &  40873.28            & conventional         & 2015                 & Albany               & 2015-01              & 01                  \\\\\n",
       "\t 2015-01-04           & 1.79                 &   1373.95            & organic              & 2015                 & Albany               & 2015-01              & 01                  \\\\\n",
       "\t 2015-01-04           & 1.00                 & 435021.49            & conventional         & 2015                 & Atlanta              & 2015-01              & 01                  \\\\\n",
       "\t 2015-01-04           & 1.76                 &   3846.69            & organic              & 2015                 & Atlanta              & 2015-01              & 01                  \\\\\n",
       "\t 2015-01-04           & 1.08                 & 788025.06            & conventional         & 2015                 & Baltimore/Washington & 2015-01              & 01                  \\\\\n",
       "\t 2015-01-04           & 1.29                 &  19137.28            & organic              & 2015                 & Baltimore/Washington & 2015-01              & 01                  \\\\\n",
       "\\end{tabular}\n"
      ],
      "text/markdown": [
       "\n",
       "| date | average_price | total_volume | type | year | geography | month_year | month |\n",
       "|---|---|---|---|---|---|---|---|\n",
       "| 2015-01-04           | 1.22                 |  40873.28            | conventional         | 2015                 | Albany               | 2015-01              | 01                   |\n",
       "| 2015-01-04           | 1.79                 |   1373.95            | organic              | 2015                 | Albany               | 2015-01              | 01                   |\n",
       "| 2015-01-04           | 1.00                 | 435021.49            | conventional         | 2015                 | Atlanta              | 2015-01              | 01                   |\n",
       "| 2015-01-04           | 1.76                 |   3846.69            | organic              | 2015                 | Atlanta              | 2015-01              | 01                   |\n",
       "| 2015-01-04           | 1.08                 | 788025.06            | conventional         | 2015                 | Baltimore/Washington | 2015-01              | 01                   |\n",
       "| 2015-01-04           | 1.29                 |  19137.28            | organic              | 2015                 | Baltimore/Washington | 2015-01              | 01                   |\n",
       "\n"
      ],
      "text/plain": [
       "  date       average_price total_volume type         year geography           \n",
       "1 2015-01-04 1.22           40873.28    conventional 2015 Albany              \n",
       "2 2015-01-04 1.79            1373.95    organic      2015 Albany              \n",
       "3 2015-01-04 1.00          435021.49    conventional 2015 Atlanta             \n",
       "4 2015-01-04 1.76            3846.69    organic      2015 Atlanta             \n",
       "5 2015-01-04 1.08          788025.06    conventional 2015 Baltimore/Washington\n",
       "6 2015-01-04 1.29           19137.28    organic      2015 Baltimore/Washington\n",
       "  month_year month\n",
       "1 2015-01    01   \n",
       "2 2015-01    01   \n",
       "3 2015-01    01   \n",
       "4 2015-01    01   \n",
       "5 2015-01    01   \n",
       "6 2015-01    01   "
      ]
     },
     "metadata": {},
     "output_type": "display_data"
    }
   ],
   "source": [
    "seasonal_avo = seasonal_avo %>% select('date', 'average_price', 'total_volume', 'type', 'year', 'geography',\n",
    "                                     #'average_price_lag', 'average_price_lag_2', \n",
    "                                       'month_year', 'month')\n",
    "head(seasonal_avo)"
   ]
  },
  {
   "cell_type": "code",
   "execution_count": 21,
   "metadata": {},
   "outputs": [],
   "source": [
    "grouped = seasonal_avo %>%\n",
    "    group_by(type, month_year) %>% \n",
    "    summarise(average_price = mean(average_price),\n",
    "              total_volume=mean(total_volume))  %>% \n",
    "    group_by(type) %>%\n",
    "    mutate(average_price_lag = dplyr::lag(average_price, n = 1, default = NA)) %>%\n",
    "    group_by(type) %>% \n",
    "    mutate(average_price_lag_2 = dplyr::lag(average_price_lag, n = 1, default = NA)) %>% ungroup() \n",
    "# head(grouped)"
   ]
  },
  {
   "cell_type": "code",
   "execution_count": 23,
   "metadata": {},
   "outputs": [],
   "source": [
    "pdata = na.omit(pdata.frame(grouped, index = c(\"type\", \"month_year\"), stringsAsFactors = FALSE))"
   ]
  },
  {
   "cell_type": "code",
   "execution_count": 24,
   "metadata": {},
   "outputs": [],
   "source": [
    "model1 = lm(average_price ~ total_volume, pdata)\n",
    "model2 = lm(average_price ~ total_volume + average_price_lag, pdata)\n",
    "model3 = lm(average_price ~ total_volume + average_price_lag + average_price_lag_2, pdata)\n",
    "model4 = plm(average_price ~ total_volume + average_price_lag+ average_price_lag_2, model='within', effect='time', pdata)\n",
    "model5 = plm(average_price ~ total_volume + average_price_lag+ average_price_lag_2, model='within', effect='twoways', pdata)"
   ]
  },
  {
   "cell_type": "code",
   "execution_count": 26,
   "metadata": {},
   "outputs": [],
   "source": [
    "#compare different lm without fixed effects\n",
    "# stargazer(model1, model2, model3, type='text')"
   ]
  },
  {
   "cell_type": "code",
   "execution_count": 27,
   "metadata": {},
   "outputs": [],
   "source": [
    "#compare the fixed effect models\n",
    "# stargazer(model4, model5, type='text')"
   ]
  },
  {
   "cell_type": "markdown",
   "metadata": {},
   "source": [
    "## 1 Check nonlinearity - no nonlinearity found"
   ]
  },
  {
   "cell_type": "code",
   "execution_count": 28,
   "metadata": {},
   "outputs": [
    {
     "data": {
      "text/plain": [
       "\n",
       "\tRESET test\n",
       "\n",
       "data:  average_price ~ total_volume\n",
       "RESET = 1.8188, df1 = 10, df2 = 114, p-value = 0.06489\n"
      ]
     },
     "metadata": {},
     "output_type": "display_data"
    }
   ],
   "source": [
    "resettest(average_price ~ total_volume , power=2:11, type= c(\"fitted\"), pdata)"
   ]
  },
  {
   "cell_type": "code",
   "execution_count": 29,
   "metadata": {},
   "outputs": [
    {
     "data": {
      "text/plain": [
       "\n",
       "\tRESET test\n",
       "\n",
       "data:  average_price ~ total_volume + average_price_lag\n",
       "RESET = 0.28792, df1 = 2, df2 = 121, p-value = 0.7503\n"
      ]
     },
     "metadata": {},
     "output_type": "display_data"
    }
   ],
   "source": [
    "resettest(average_price ~ total_volume +average_price_lag , power=2:3, type= c(\"fitted\"), pdata)"
   ]
  },
  {
   "cell_type": "code",
   "execution_count": 30,
   "metadata": {},
   "outputs": [
    {
     "data": {
      "text/plain": [
       "\n",
       "\tRESET test\n",
       "\n",
       "data:  average_price ~ total_volume + average_price_lag + average_price_lag_2\n",
       "RESET = 0.60385, df1 = 3, df2 = 119, p-value = 0.6138\n"
      ]
     },
     "metadata": {},
     "output_type": "display_data"
    }
   ],
   "source": [
    "resettest(average_price ~total_volume +average_price_lag +average_price_lag_2, power=2:4, type= c(\"fitted\"), pdata)"
   ]
  },
  {
   "cell_type": "markdown",
   "metadata": {},
   "source": [
    "## 2. Test heteroskedasticity  "
   ]
  },
  {
   "cell_type": "code",
   "execution_count": 33,
   "metadata": {},
   "outputs": [],
   "source": [
    "residuals = model5$residuals"
   ]
  },
  {
   "cell_type": "code",
   "execution_count": 34,
   "metadata": {},
   "outputs": [],
   "source": [
    "pdata$residualis = residuals"
   ]
  },
  {
   "cell_type": "code",
   "execution_count": 36,
   "metadata": {},
   "outputs": [
    {
     "data": {
      "text/plain": [
       "\n",
       "\tstudentized Breusch-Pagan test\n",
       "\n",
       "data:  model4\n",
       "BP = 2.4988, df = 3, p-value = 0.4755\n"
      ]
     },
     "metadata": {},
     "output_type": "display_data"
    }
   ],
   "source": [
    "bptest(model4)"
   ]
  },
  {
   "cell_type": "code",
   "execution_count": 37,
   "metadata": {},
   "outputs": [
    {
     "data": {
      "text/plain": [
       "\n",
       "\tstudentized Breusch-Pagan test\n",
       "\n",
       "data:  model5\n",
       "BP = 2.4988, df = 3, p-value = 0.4755\n"
      ]
     },
     "metadata": {},
     "output_type": "display_data"
    }
   ],
   "source": [
    "bptest(model5)"
   ]
  },
  {
   "cell_type": "code",
   "execution_count": 39,
   "metadata": {},
   "outputs": [
    {
     "data": {
      "text/plain": [
       "\n",
       "t test of coefficients:\n",
       "\n",
       "                       Estimate  Std. Error t value  Pr(>|t|)    \n",
       "total_volume        -4.1042e-08  5.3189e-10 -77.162 < 2.2e-16 ***\n",
       "average_price_lag    6.1596e-01  1.1421e-03 539.322 < 2.2e-16 ***\n",
       "average_price_lag_2  2.2001e-01  2.5844e-04 851.317 < 2.2e-16 ***\n",
       "---\n",
       "Signif. codes:  0 ‘***’ 0.001 ‘**’ 0.01 ‘*’ 0.05 ‘.’ 0.1 ‘ ’ 1\n"
      ]
     },
     "metadata": {},
     "output_type": "display_data"
    }
   ],
   "source": [
    "coeftest(model4, vcov.=vcovHC, type='HC4')"
   ]
  },
  {
   "cell_type": "code",
   "execution_count": 40,
   "metadata": {},
   "outputs": [
    {
     "data": {
      "text/plain": [
       "\n",
       "t test of coefficients:\n",
       "\n",
       "                       Estimate  Std. Error t value  Pr(>|t|)    \n",
       "total_volume        -1.0743e-08  8.7979e-10 -12.211 < 2.2e-16 ***\n",
       "average_price_lag    5.6825e-01  2.8222e-03 201.349 < 2.2e-16 ***\n",
       "average_price_lag_2  1.4383e-01  6.9877e-03  20.584 < 2.2e-16 ***\n",
       "---\n",
       "Signif. codes:  0 ‘***’ 0.001 ‘**’ 0.01 ‘*’ 0.05 ‘.’ 0.1 ‘ ’ 1\n"
      ]
     },
     "metadata": {},
     "output_type": "display_data"
    }
   ],
   "source": [
    "coeftest(model5, vcov.=vcovHC, type='HC4')"
   ]
  },
  {
   "cell_type": "markdown",
   "metadata": {},
   "source": [
    "## hypothesis testing on whether we should add fixed effects"
   ]
  },
  {
   "cell_type": "code",
   "execution_count": 41,
   "metadata": {},
   "outputs": [
    {
     "data": {
      "text/plain": [
       "\n",
       "\tF test for time effects\n",
       "\n",
       "data:  average_price ~ total_volume + average_price_lag + average_price_lag_2\n",
       "F = 5.4004, df1 = 62, df2 = 60, p-value = 2.879e-10\n",
       "alternative hypothesis: significant effects\n"
      ]
     },
     "metadata": {},
     "output_type": "display_data"
    }
   ],
   "source": [
    "pFtest(model4, model3)"
   ]
  },
  {
   "cell_type": "code",
   "execution_count": 42,
   "metadata": {},
   "outputs": [
    {
     "data": {
      "text/plain": [
       "\n",
       "\tF test for twoways effects\n",
       "\n",
       "data:  average_price ~ total_volume + average_price_lag + average_price_lag_2\n",
       "F = 1.4445, df1 = 1, df2 = 59, p-value = 0.2342\n",
       "alternative hypothesis: significant effects\n"
      ]
     },
     "metadata": {},
     "output_type": "display_data"
    }
   ],
   "source": [
    "pFtest(model5, model4)"
   ]
  },
  {
   "cell_type": "code",
   "execution_count": 52,
   "metadata": {},
   "outputs": [
    {
     "name": "stdout",
     "output_type": "stream",
     "text": [
      "\n",
      "<table style=\"text-align:center\"><caption><strong>Regression Results</strong></caption>\n",
      "<tr><td colspan=\"7\" style=\"border-bottom: 1px solid black\"></td></tr><tr><td style=\"text-align:left\"></td><td colspan=\"6\"><em>Dependent variable:</em></td></tr>\n",
      "<tr><td></td><td colspan=\"6\" style=\"border-bottom: 1px solid black\"></td></tr>\n",
      "<tr><td style=\"text-align:left\"></td><td colspan=\"6\">Average Price</td></tr>\n",
      "<tr><td style=\"text-align:left\"></td><td colspan=\"3\"><em>OLS</em></td><td colspan=\"3\"><em>panel</em></td></tr>\n",
      "<tr><td style=\"text-align:left\"></td><td colspan=\"3\"><em></em></td><td colspan=\"3\"><em>linear</em></td></tr>\n",
      "<tr><td style=\"text-align:left\"></td><td>OLS</td><td>OLS</td><td>OLS</td><td>FE</td><td>FE</td><td>FE</td></tr>\n",
      "<tr><td style=\"text-align:left\"></td><td>(1)</td><td>(2)</td><td>(3)</td><td>(4)</td><td>(5)</td><td>(6)</td></tr>\n",
      "<tr><td colspan=\"7\" style=\"border-bottom: 1px solid black\"></td></tr><tr><td style=\"text-align:left\">Quantity</td><td>-0.00000<sup>***</sup></td><td>-0.00000<sup>***</sup></td><td>-0.00000<sup>***</sup></td><td>-0.00000<sup>**</sup></td><td>-0.00000<sup>**</sup></td><td>-0.000</td></tr>\n",
      "<tr><td style=\"text-align:left\"></td><td>(0.000)</td><td>(0.00000)</td><td>(0.00000)</td><td>(0.00000)</td><td>(0.00000)</td><td>(0.00000)</td></tr>\n",
      "<tr><td style=\"text-align:left\"></td><td></td><td></td><td></td><td></td><td></td><td></td></tr>\n",
      "<tr><td style=\"text-align:left\">Average price(t-1)</td><td></td><td>0.742<sup>***</sup></td><td>1.017<sup>***</sup></td><td>0.616<sup>***</sup></td><td>1.017<sup>***</sup></td><td>0.568<sup>***</sup></td></tr>\n",
      "<tr><td style=\"text-align:left\"></td><td></td><td>(0.057)</td><td>(0.084)</td><td>(0.124)</td><td>(0.085)</td><td>(0.130)</td></tr>\n",
      "<tr><td style=\"text-align:left\"></td><td></td><td></td><td></td><td></td><td></td><td></td></tr>\n",
      "<tr><td style=\"text-align:left\">Average price(t-2)</td><td></td><td></td><td>-0.349<sup>***</sup></td><td>0.220<sup>*</sup></td><td>-0.356<sup>***</sup></td><td>0.144</td></tr>\n",
      "<tr><td style=\"text-align:left\"></td><td></td><td></td><td>(0.082)</td><td>(0.120)</td><td>(0.084)</td><td>(0.135)</td></tr>\n",
      "<tr><td style=\"text-align:left\"></td><td></td><td></td><td></td><td></td><td></td><td></td></tr>\n",
      "<tr><td style=\"text-align:left\">Constant</td><td>1.634<sup>***</sup></td><td>0.423<sup>***</sup></td><td>0.542<sup>***</sup></td><td></td><td></td><td></td></tr>\n",
      "<tr><td style=\"text-align:left\"></td><td>(0.018)</td><td>(0.094)</td><td>(0.093)</td><td></td><td></td><td></td></tr>\n",
      "<tr><td style=\"text-align:left\"></td><td></td><td></td><td></td><td></td><td></td><td></td></tr>\n",
      "<tr><td colspan=\"7\" style=\"border-bottom: 1px solid black\"></td></tr><tr><td style=\"text-align:left\">Standard Errors</td><td></td><td></td><td></td><td>Clustered</td><td>Clustered</td><td>Clustered</td></tr>\n",
      "<tr><td style=\"text-align:left\">Type Dummies</td><td>No</td><td>No</td><td>No</td><td>No</td><td>Yes</td><td>Yes</td></tr>\n",
      "<tr><td style=\"text-align:left\">Year-Month Dummies</td><td>No</td><td>No</td><td>No</td><td>Yes</td><td>No</td><td>Yes</td></tr>\n",
      "<tr><td style=\"text-align:left\">RSS</td><td>2.574</td><td>1.089</td><td>0.95</td><td>0.144</td><td>0.947</td><td>0.141</td></tr>\n",
      "<tr><td style=\"text-align:left\">Observations</td><td>126</td><td>126</td><td>126</td><td>126</td><td>126</td><td>126</td></tr>\n",
      "<tr><td style=\"text-align:left\">R<sup>2</sup></td><td>0.729</td><td>0.885</td><td>0.900</td><td>0.979</td><td>0.656</td><td>0.434</td></tr>\n",
      "<tr><td colspan=\"7\" style=\"border-bottom: 1px solid black\"></td></tr><tr><td style=\"text-align:left\"><em>Note:</em></td><td colspan=\"6\" style=\"text-align:right\">*Significant at the 10% Level</td></tr>\n",
      "<tr><td style=\"text-align:left\"></td><td colspan=\"6\" style=\"text-align:right\">**Significant at the 5% Level</td></tr>\n",
      "<tr><td style=\"text-align:left\"></td><td colspan=\"6\" style=\"text-align:right\">***Significant at the 1% Level</td></tr>\n",
      "</table>\n"
     ]
    }
   ],
   "source": [
    "stargazer(model1, model2, model3, model4, model5, model6,\n",
    "          #se = list(NULL, NULL, NULL, robust_se_4, robust_se_5, robust_se_6),\n",
    "          type = \"html\",\n",
    "          out = \"Term Proj.doc\", \n",
    "          title = \"Regression Results\", \n",
    "          align = TRUE, \n",
    "          notes.append = FALSE, \n",
    "          notes = c(\" *Significant at the 10% Level\",\n",
    "                    \" **Significant at the 5% Level\",\n",
    "                    \" ***Significant at the 1% Level\"),\n",
    "          omit.stat = c(\"f\",\"adj.rsq\",\"ser\"), \n",
    "          add.lines = list(\n",
    "                           c(\"Standard Errors\",\" \",\" \",\" \",\"Clustered\",\"Clustered\",\"Clustered\"),\n",
    "                           c(\"Type Dummies\",\"No\",\"No\",\"No\",\"No\",\"Yes\",\"Yes\"),\n",
    "                           c(\"Year-Month Dummies\",\"No\",\"No\",\"No\",\"Yes\",\"No\",\"Yes\"),\n",
    "                           c(\"RSS\", \n",
    "                             round(sum(residuals(model1)^2), digits = 3),\n",
    "                             round(sum(residuals(model2)^2), digits = 3),\n",
    "                             round(sum(residuals(model3)^2), digits = 3),\n",
    "                             round(sum(residuals(model4)^2), digits = 3),\n",
    "                             round(sum(residuals(model5)^2), digits = 3),\n",
    "                             round(sum(residuals(model6)^2), digits = 3))), \n",
    "          dep.var.labels = c(\"Average Price\"),\n",
    "          covariate.labels = c(\"Quantity\", \"Average price(t-1)\", \"Average price(t-2)\"),\n",
    "          column.labels = c(\"OLS\", \"OLS\", \"OLS\", \"FE\", \"FE\", \"FE\"))"
   ]
  },
  {
   "cell_type": "code",
   "execution_count": null,
   "metadata": {},
   "outputs": [],
   "source": []
  }
 ],
 "metadata": {
  "kernelspec": {
   "display_name": "R",
   "language": "R",
   "name": "ir"
  },
  "language_info": {
   "codemirror_mode": "r",
   "file_extension": ".r",
   "mimetype": "text/x-r-source",
   "name": "R",
   "pygments_lexer": "r",
   "version": "3.6.1"
  }
 },
 "nbformat": 4,
 "nbformat_minor": 4
}
